{
 "cells": [
  {
   "cell_type": "code",
   "execution_count": 1,
   "metadata": {},
   "outputs": [],
   "source": [
    "def find_molarmasse(*args):\n",
    "    # input needs to be infinite number of tuples with 1) molarmass and 2) number of atoms\n",
    "    return sum([arg[0]*arg[1] for arg in args])\n",
    "\n",
    "def find_stofmængde(molarmasse, m = 1000):\n",
    "    # g / (g / mol) = mol\n",
    "    # m skal angives i gram\n",
    "    return m / molarmasse\n",
    "\n",
    "def empirisk_formel(analysemål: list, molarmasser: list):\n",
    "    # analysemål is list of procent from analyse: eg. 52.2, 13.1, 34.7\n",
    "    stofmængder = [find_stofmængde(molar, a) for a, molar in zip(analysemål, molarmasser)]\n",
    "    return [stof / min(stofmængder) for stof in stofmængder]\n",
    "\n",
    "def mol_til_antal(tal):\n",
    "    return tal * 6.022 * 10**(23)"
   ]
  },
  {
   "cell_type": "code",
   "execution_count": 2,
   "metadata": {},
   "outputs": [
    {
     "data": {
      "text/plain": [
       "0.1656304412187916"
      ]
     },
     "execution_count": 2,
     "metadata": {},
     "output_type": "execute_result"
    }
   ],
   "source": [
    "# Quiz Gasser\n",
    "grader_celcius = 25\n",
    "p = 1 # atm\n",
    "R = 0.081\n",
    "V = 4 # L\n",
    "T = (grader_celcius + 273.15) # K\n",
    "mol_ox = p * V / (R * T)\n",
    "mol_ox"
   ]
  },
  {
   "cell_type": "code",
   "execution_count": 4,
   "metadata": {},
   "outputs": [
    {
     "data": {
      "text/plain": [
       "0.05553704320781962"
      ]
     },
     "execution_count": 4,
     "metadata": {},
     "output_type": "execute_result"
    }
   ],
   "source": [
    "mol_glukose = find_stofmængde(6 * 12.011 + 12 * 1 + 6 * 15.999, 10)\n",
    "mol_glukose"
   ]
  },
  {
   "cell_type": "code",
   "execution_count": 5,
   "metadata": {},
   "outputs": [
    {
     "data": {
      "text/plain": [
       "(0.02760507353646527, 0.05553704320781962)"
      ]
     },
     "execution_count": 5,
     "metadata": {},
     "output_type": "execute_result"
    }
   ],
   "source": [
    "# find minimum af:\n",
    "mol_ox * 1/6, mol_glukose"
   ]
  },
  {
   "cell_type": "markdown",
   "metadata": {},
   "source": [
    "## Spørgsmål 2"
   ]
  },
  {
   "cell_type": "code",
   "execution_count": 7,
   "metadata": {},
   "outputs": [
    {
     "data": {
      "text/plain": [
       "0.12371008886075949"
      ]
     },
     "execution_count": 7,
     "metadata": {},
     "output_type": "execute_result"
    }
   ],
   "source": [
    "rho = 6.388*10**-5\n",
    "R = 0.082\n",
    "T = 100 + 273.15\n",
    "p = 0.0158\n",
    "M = rho*R*T/p\n",
    "M"
   ]
  },
  {
   "cell_type": "markdown",
   "metadata": {},
   "source": [
    "## Spørgsmål 3"
   ]
  },
  {
   "cell_type": "code",
   "execution_count": 13,
   "metadata": {},
   "outputs": [
    {
     "name": "stdout",
     "output_type": "stream",
     "text": [
      "n = 1.28871625818657\n"
     ]
    },
    {
     "data": {
      "text/plain": [
       "54.126082843835945"
      ]
     },
     "execution_count": 13,
     "metadata": {},
     "output_type": "execute_result"
    }
   ],
   "source": [
    "grader_celcius = 200\n",
    "p = 1 # atm\n",
    "R = 0.082\n",
    "V = 50 # L\n",
    "T = (grader_celcius + 273.15) # K\n",
    "n = p * V / (R * T)\n",
    "print(f\"{n = }\")\n",
    "n * (2 * 14) * 3/2"
   ]
  },
  {
   "cell_type": "markdown",
   "metadata": {},
   "source": [
    "## Spørgsmål 4"
   ]
  },
  {
   "cell_type": "code",
   "execution_count": 11,
   "metadata": {},
   "outputs": [
    {
     "name": "stdout",
     "output_type": "stream",
     "text": [
      "n = 0.12428535918468804\n"
     ]
    }
   ],
   "source": [
    "grader_celcius = 25\n",
    "p = 1 # atm\n",
    "R = 0.081\n",
    "V = 3 # L\n",
    "T = (grader_celcius + 273.15) # K\n",
    "T = 298\n",
    "n = p * V / (R * T)\n",
    "print(f\"{n = }\")"
   ]
  },
  {
   "cell_type": "code",
   "execution_count": 12,
   "metadata": {},
   "outputs": [
    {
     "data": {
      "text/plain": [
       "9.308973402933136"
      ]
     },
     "execution_count": 12,
     "metadata": {},
     "output_type": "execute_result"
    }
   ],
   "source": [
    "n * (2 + 35.45) * 2"
   ]
  },
  {
   "cell_type": "markdown",
   "metadata": {},
   "source": [
    "## Spørgsmål 5"
   ]
  },
  {
   "cell_type": "code",
   "execution_count": null,
   "metadata": {},
   "outputs": [],
   "source": []
  }
 ],
 "metadata": {
  "kernelspec": {
   "display_name": "Python 3.11.2 64-bit",
   "language": "python",
   "name": "python3"
  },
  "language_info": {
   "codemirror_mode": {
    "name": "ipython",
    "version": 3
   },
   "file_extension": ".py",
   "mimetype": "text/x-python",
   "name": "python",
   "nbconvert_exporter": "python",
   "pygments_lexer": "ipython3",
   "version": "3.11.2"
  },
  "orig_nbformat": 4,
  "vscode": {
   "interpreter": {
    "hash": "b0fa6594d8f4cbf19f97940f81e996739fb7646882a419484c72d19e05852a7e"
   }
  }
 },
 "nbformat": 4,
 "nbformat_minor": 2
}
